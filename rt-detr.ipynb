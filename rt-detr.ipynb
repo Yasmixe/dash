{
 "cells": [
  {
   "cell_type": "code",
   "execution_count": 1,
   "id": "0d10550c",
   "metadata": {},
   "outputs": [
    {
     "name": "stderr",
     "output_type": "stream",
     "text": [
      "ERROR: pip's dependency resolver does not currently take into account all the packages that are installed. This behaviour is the source of the following dependency conflicts.\n",
      "inference-sdk 0.49.1 requires numpy<2.3.0,>=2.0.0, but you have numpy 1.26.4 which is incompatible.\n",
      "inference-sdk 0.49.1 requires requests<3.0.0,>=2.32.0, but you have requests 2.28.2 which is incompatible.\n"
     ]
    }
   ],
   "source": [
    "!pip install -q git+https://github.com/huggingface/transformers.git\n",
    "!pip install -q git+https://github.com/roboflow/supervision.git\n",
    "!pip install -q accelerate\n",
    "!pip install -q roboflow\n",
    "!pip install -q torchmetrics\n",
    "!pip install -q \"albumentations>=1.4.5\""
   ]
  }
 ],
 "metadata": {
  "kernelspec": {
   "display_name": "base",
   "language": "python",
   "name": "python3"
  },
  "language_info": {
   "codemirror_mode": {
    "name": "ipython",
    "version": 3
   },
   "file_extension": ".py",
   "mimetype": "text/x-python",
   "name": "python",
   "nbconvert_exporter": "python",
   "pygments_lexer": "ipython3",
   "version": "3.12.7"
  }
 },
 "nbformat": 4,
 "nbformat_minor": 5
}
